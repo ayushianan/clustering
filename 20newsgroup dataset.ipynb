{
 "cells": [
  {
   "cell_type": "code",
   "execution_count": 1,
   "metadata": {},
   "outputs": [],
   "source": [
    "from sklearn.datasets import fetch_20newsgroups\n",
    "from sklearn.feature_extraction.text import TfidfVectorizer\n",
    "import numpy as np\n",
    "from sklearn.cluster import KMeans\n",
    "from sklearn import metrics"
   ]
  },
  {
   "cell_type": "code",
   "execution_count": 2,
   "metadata": {},
   "outputs": [],
   "source": [
    "categories = [\n",
    "    'alt.atheism',\n",
    "    'talk.religion.misc',\n",
    "    'comp.graphics',\n",
    "    'sci.space',\n",
    "]    #The subset of whole dataset"
   ]
  },
  {
   "cell_type": "code",
   "execution_count": 3,
   "metadata": {},
   "outputs": [],
   "source": [
    "dataset = fetch_20newsgroups(subset='all', categories=categories,\n",
    "                             shuffle=True, random_state=42)"
   ]
  },
  {
   "cell_type": "code",
   "execution_count": 4,
   "metadata": {},
   "outputs": [],
   "source": [
    "labels = dataset.target   #Label against each dataset"
   ]
  },
  {
   "cell_type": "code",
   "execution_count": 5,
   "metadata": {},
   "outputs": [
    {
     "name": "stdout",
     "output_type": "stream",
     "text": [
      "[0 1 1 ... 2 1 1]\n"
     ]
    }
   ],
   "source": [
    "print(labels)"
   ]
  },
  {
   "cell_type": "code",
   "execution_count": 6,
   "metadata": {},
   "outputs": [
    {
     "name": "stdout",
     "output_type": "stream",
     "text": [
      "3387\n",
      "4\n"
     ]
    }
   ],
   "source": [
    "print(len(dataset.data))\n",
    "print( len(dataset.target_names))"
   ]
  },
  {
   "cell_type": "code",
   "execution_count": 7,
   "metadata": {},
   "outputs": [],
   "source": [
    "true_k= 5     #No. of cluster you want"
   ]
  },
  {
   "cell_type": "code",
   "execution_count": null,
   "metadata": {},
   "outputs": [],
   "source": []
  },
  {
   "cell_type": "code",
   "execution_count": null,
   "metadata": {},
   "outputs": [],
   "source": []
  },
  {
   "cell_type": "code",
   "execution_count": 9,
   "metadata": {},
   "outputs": [],
   "source": [
    "vectorizer = TfidfVectorizer(max_df=0.5,\n",
    "                             min_df=2,\n",
    "                             stop_words='english')"
   ]
  },
  {
   "cell_type": "code",
   "execution_count": 10,
   "metadata": {},
   "outputs": [],
   "source": [
    "X = vectorizer.fit_transform(dataset.data)"
   ]
  },
  {
   "cell_type": "code",
   "execution_count": null,
   "metadata": {},
   "outputs": [],
   "source": []
  },
  {
   "cell_type": "code",
   "execution_count": null,
   "metadata": {},
   "outputs": [],
   "source": []
  },
  {
   "cell_type": "code",
   "execution_count": 11,
   "metadata": {},
   "outputs": [
    {
     "data": {
      "text/plain": [
       "KMeans(algorithm='auto', copy_x=True, init='k-means++', max_iter=100,\n",
       "    n_clusters=20, n_init=1, n_jobs=None, precompute_distances='auto',\n",
       "    random_state=None, tol=0.0001, verbose=0)"
      ]
     },
     "execution_count": 11,
     "metadata": {},
     "output_type": "execute_result"
    }
   ],
   "source": [
    "km = KMeans(n_clusters=20, init='k-means++', max_iter=100, n_init=1)\n",
    "\n",
    "km.fit(X)"
   ]
  },
  {
   "cell_type": "code",
   "execution_count": 12,
   "metadata": {},
   "outputs": [],
   "source": [
    "order_centroids = km.cluster_centers_.argsort()[:, ::-1]   #centroids sorted position"
   ]
  },
  {
   "cell_type": "code",
   "execution_count": 13,
   "metadata": {},
   "outputs": [],
   "source": [
    "terms = vectorizer.get_feature_names()"
   ]
  },
  {
   "cell_type": "code",
   "execution_count": 15,
   "metadata": {},
   "outputs": [
    {
     "name": "stdout",
     "output_type": "stream",
     "text": [
      "cluster 0:\n",
      "usc\n",
      "dean\n",
      "kaflowitz\n",
      "caspian\n",
      "yeh\n",
      "cbnewsj\n",
      "convenient\n",
      "tammy\n",
      "cb\n",
      "att\n",
      "com\n",
      "abortion\n",
      "healy\n",
      "decay\n",
      "taoism\n",
      "zyeh\n",
      "zhenghao\n",
      "hell\n",
      "distribution\n",
      "na\n",
      "\n",
      "cluster 1:\n",
      "com\n",
      "graphics\n",
      "university\n",
      "image\n",
      "posting\n",
      "host\n",
      "nntp\n",
      "thanks\n",
      "computer\n",
      "know\n",
      "ca\n",
      "3d\n",
      "program\n",
      "like\n",
      "software\n",
      "file\n",
      "files\n",
      "mail\n",
      "cs\n",
      "help\n",
      "\n",
      "cluster 2:\n",
      "henry\n",
      "toronto\n",
      "zoo\n",
      "spencer\n",
      "zoology\n",
      "utzoo\n",
      "work\n",
      "svr3\n",
      "resembles\n",
      "svr4\n",
      "dunn\n",
      "collision\n",
      "sunos\n",
      "dick\n",
      "kipling\n",
      "umd\n",
      "high\n",
      "speed\n",
      "eng\n",
      "orbit\n",
      "\n",
      "cluster 3:\n",
      "sandvik\n",
      "kent\n",
      "apple\n",
      "newton\n",
      "com\n",
      "alink\n",
      "ksand\n",
      "cookamunga\n",
      "tourist\n",
      "bureau\n",
      "private\n",
      "activities\n",
      "cheers\n",
      "wrote\n",
      "jesus\n",
      "net\n",
      "god\n",
      "royalroads\n",
      "article\n",
      "christian\n",
      "\n",
      "cluster 4:\n",
      "okcforum\n",
      "ico\n",
      "vice\n",
      "tek\n",
      "bobbe\n",
      "beauchaine\n",
      "osrhe\n",
      "com\n",
      "conner\n",
      "bronx\n",
      "bil\n",
      "queens\n",
      "manhattan\n",
      "sank\n",
      "robert\n",
      "blew\n",
      "bob\n",
      "sea\n",
      "stay\n",
      "beaverton\n",
      "\n"
     ]
    }
   ],
   "source": [
    "for i in range(true_k):\n",
    "    print(\"cluster %d:\" % i)\n",
    "    for ind in order_centroids[i,:20]:\n",
    "        print('%s' % terms[ind])\n",
    "    print()"
   ]
  },
  {
   "cell_type": "code",
   "execution_count": 16,
   "metadata": {},
   "outputs": [
    {
     "name": "stdout",
     "output_type": "stream",
     "text": [
      "Homogeneity: 0.486\n",
      "Completeness: 0.289\n",
      "V-measure: 0.362\n",
      "Silhouette Coefficient: 0.016\n"
     ]
    }
   ],
   "source": [
    "print(\"Homogeneity: %0.3f\" % metrics.homogeneity_score(labels, km.labels_))\n",
    "print(\"Completeness: %0.3f\" % metrics.completeness_score(labels, km.labels_))\n",
    "print(\"V-measure: %0.3f\" % metrics.v_measure_score(labels, km.labels_))\n",
    "print(\"Silhouette Coefficient: %0.3f\"\n",
    "      % metrics.silhouette_score(X, km.labels_, sample_size=1000))"
   ]
  },
  {
   "cell_type": "code",
   "execution_count": null,
   "metadata": {},
   "outputs": [],
   "source": []
  }
 ],
 "metadata": {
  "kernelspec": {
   "display_name": "Python 3",
   "language": "python",
   "name": "python3"
  },
  "language_info": {
   "codemirror_mode": {
    "name": "ipython",
    "version": 3
   },
   "file_extension": ".py",
   "mimetype": "text/x-python",
   "name": "python",
   "nbconvert_exporter": "python",
   "pygments_lexer": "ipython3",
   "version": "3.6.5"
  }
 },
 "nbformat": 4,
 "nbformat_minor": 2
}
